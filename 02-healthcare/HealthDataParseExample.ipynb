{
 "cells": [
  {
   "cell_type": "code",
   "execution_count": null,
   "metadata": {
    "collapsed": true
   },
   "outputs": [],
   "source": [
    "import re\n",
    "import time\n",
    "import datetime"
   ]
  },
  {
   "cell_type": "code",
   "execution_count": null,
   "metadata": {
    "collapsed": false
   },
   "outputs": [],
   "source": [
    "def parse_health_data_test(file_name):    \n",
    "    start_time = time.time()    \n",
    "   \n",
    "    PATTERN_ROW = r'<tr\\s*/>|<tr\\b[^>]*>(?P<arow>.+?)</tr>'    \n",
    "    PATTERN_CELL = r'<(td|th)\\s*/>|<(?P<element>td|th)\\b[^>]*>(?P<col>.+?)</(?P=element)>'\n",
    "    PATTERN_CLEANUP = r'\\s+|&#160;'\n",
    "    \n",
    "    html_content = open(file_name,'r', encoding='utf-8').read()\n",
    "    \n",
    "    # Cleanup: Replaces all extra spaces, new lines, tabs etc with a single space.    \n",
    "    html_content = re.sub(PATTERN_CLEANUP,' ', html_content)    \n",
    "    \n",
    "    with open(file_name + '.csv','w', encoding='utf-8') as wr:\n",
    "        \n",
    "        # For each row\n",
    "        row_iter = re.finditer(PATTERN_ROW, html_content)\n",
    "        \n",
    "        for row_match in row_iter:\n",
    "            # Skip empty rows. Process only if group arow matched.        \n",
    "            if row_match.group('arow'):\n",
    "                # For each cell in a row\n",
    "                col_iter = re.finditer(PATTERN_CELL,row_match.group('arow'))\n",
    "                line = []\n",
    "                for col_match in col_iter:\n",
    "                    if col_match.group('col'):\n",
    "                        line.append(col_match.group('col').replace(',',''))\n",
    "                    else:\n",
    "                        line.append('')\n",
    "                        \n",
    "                wr.write(','.join(line))\n",
    "                wr.write('\\n')\n",
    "                \n",
    "    print ('Elapsed Time : {0:.2f}s'.format(time.time()-start_time))"
   ]
  },
  {
   "cell_type": "code",
   "execution_count": null,
   "metadata": {
    "collapsed": false
   },
   "outputs": [],
   "source": [
    "files =[r\"C:\\RegexPythonCourse\\Data\\HealthData\\problems.html\",\n",
    "        r\"C:\\RegexPythonCourse\\Data\\HealthData\\labresults.html\"]\n",
    "for file_name in files:\n",
    "    print('****{0}'.format(file_name))\n",
    "    parse_health_data_test(file_name)"
   ]
  },
  {
   "cell_type": "code",
   "execution_count": null,
   "metadata": {
    "collapsed": true
   },
   "outputs": [],
   "source": []
  }
 ],
 "metadata": {
  "kernelspec": {
   "display_name": "Python 3",
   "language": "python",
   "name": "python3"
  },
  "language_info": {
   "codemirror_mode": {
    "name": "ipython",
    "version": 3
   },
   "file_extension": ".py",
   "mimetype": "text/x-python",
   "name": "python",
   "nbconvert_exporter": "python",
   "pygments_lexer": "ipython3",
   "version": "3.5.1"
  }
 },
 "nbformat": 4,
 "nbformat_minor": 0
}
